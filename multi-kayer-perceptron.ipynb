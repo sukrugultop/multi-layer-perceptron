{
 "cells": [
  {
   "cell_type": "markdown",
   "metadata": {
    "colab_type": "text",
    "id": "EkhtsBEOk2MK"
   },
   "source": [
    "## MULTI-LAYER PERCEPTRON"
   ]
  },
  {
   "cell_type": "code",
   "execution_count": 91,
   "metadata": {
    "colab": {},
    "colab_type": "code",
    "id": "mozg3fTnkw3W"
   },
   "outputs": [],
   "source": [
    "# Allowed Libraries\n",
    "import numpy as np\n",
    "import matplotlib.pyplot as plt\n",
    "\n",
    "import random\n",
    "import math"
   ]
  },
  {
   "cell_type": "markdown",
   "metadata": {
    "colab_type": "text",
    "id": "99BtoJ2zk0ki"
   },
   "source": [
    "# Multilayered Perceptron\n"
   ]
  },
  {
   "cell_type": "markdown",
   "metadata": {},
   "source": [
    "The data is shuffled first and splitted to train and test data with split ratio 0.7. I visualized the data before trying to implement the MLP network. I designed a three layered network with one input, one hiddedn and one output layer. The input layer has two neuorons, hidden layer has five units with hyperbolic tangent activation function, and onutput layer has three units with sigmoid activation function. I used mean squared error function to calculate total error. I used a fixed learning rate and network has no momentum."
   ]
  },
  {
   "cell_type": "code",
   "execution_count": 92,
   "metadata": {
    "colab": {},
    "colab_type": "code",
    "id": "wf9ruWzflCfS"
   },
   "outputs": [
    {
     "data": {
      "image/png": "[encoded data removed]",
      "text/plain": [
       "<Figure size 432x288 with 1 Axes>"
      ]
     },
     "metadata": {},
     "output_type": "display_data"
    }
   ],
   "source": [
    "data = np.loadtxt(\"points2d.dat\", dtype='d', delimiter=' ')\n",
    "\n",
    "fig1  = plt.figure()\n",
    "plt.title(\"Points2D Data\")\n",
    "\n",
    "plt.scatter(data[data[:, 2] == 0][:,0], data[data[:, 2] == 0][:,1], s=10)\n",
    "plt.scatter(data[data[:, 2] == 1][:,0], data[data[:, 2] == 1][:,1], s=10)\n",
    "plt.scatter(data[data[:, 2] == 2][:,0], data[data[:, 2] == 2][:,1], s=10)\n",
    "\n",
    "#dividing the data to training and test.\n",
    "np.random.shuffle(data)\n",
    "train_data = data[0:int(len(data)*0.7)]\n",
    "test_data = data[int(len(data)*0.7):]"
   ]
  },
  {
   "cell_type": "markdown",
   "metadata": {},
   "source": [
    "I used object oriented approach to implement network. I firstly implemented Neuron class, this class have all the necessary functions and attributes. The bias and weights corresponds to incoming wieghts and bias. The error calculations of all the partial dericatives are here. You can see the respective functions and comments below."
   ]
  },
  {
   "cell_type": "code",
   "execution_count": 93,
   "metadata": {},
   "outputs": [],
   "source": [
    "class Neuron:\n",
    "    def __init__(self, bias, isHidden=False):\n",
    "        self.bias = bias\n",
    "        self.weights = []\n",
    "        self.isHidden = isHidden\n",
    "\n",
    "    # the output from neuron which is squashed net input.\n",
    "    def calculate_output(self, inputs):\n",
    "        self.inputs = inputs\n",
    "        self.output = self.squash(self.calculate_total_net_input())\n",
    "        return self.output\n",
    "    \n",
    "    #returns the net inputs of the neuoron\n",
    "    def calculate_total_net_input(self):\n",
    "        total = 0\n",
    "        for i in range(len(self.inputs)):\n",
    "            total += self.inputs[i] * self.weights[i]\n",
    "        return total + self.bias\n",
    "    \n",
    "    #calculates the output from activation functions. If the neouron is a member of the hidden layer, it uses hyperbolic tangent function, otherwise uses sigmoid.\n",
    "    def squash(self, total_net_input):\n",
    "        if self.isHidden:\n",
    "            return math.tanh(total_net_input)\n",
    "        return 1 / (1 + math.exp(-total_net_input))\n",
    "\n",
    "    # calculates the derivative of error respects to net input\n",
    "    def d_error_net(self, target_output):\n",
    "        return self.d_error_output(target_output) * self.d_total_net_input();\n",
    "    \n",
    "    #mean squared error\n",
    "    def calculate_error(self, target_output):\n",
    "        return 0.5 * (target_output - self.output) ** 2\n",
    "\n",
    "    # calculates the derivative of error respects to output\n",
    "    def d_error_output(self, target_output):\n",
    "        return -(target_output - self.output)\n",
    "    #calculates the derivative of total net input respects to net input. The main difference between hidden layer and \n",
    "    def d_total_net_input(self):\n",
    "        if self.isHidden:\n",
    "            return 1-self.output*self.output\n",
    "        return self.output * (1 - self.output)\n",
    "    \n",
    "    #calculates the derivative of total net input respects to net weights\n",
    "    def d_total_weight(self, index):\n",
    "        return self.inputs[index]\n"
   ]
  },
  {
   "cell_type": "markdown",
   "metadata": {},
   "source": [
    "The second classs is NeuronLayer. This layer represents the layers of network, it just wraps the neurons and calls their functions together for ease of use."
   ]
  },
  {
   "cell_type": "code",
   "execution_count": 94,
   "metadata": {},
   "outputs": [],
   "source": [
    "class NeuronLayer:\n",
    "    def __init__(self, num_neurons, isHidden=False):\n",
    "        self.bias = random.random()\n",
    "        self.isHidden = isHidden\n",
    "        self.neurons = []\n",
    "        for i in range(num_neurons):\n",
    "            self.neurons.append(Neuron(self.bias, isHidden))\n",
    "            \n",
    "    #feed forward of the layer, just calls the neorons' function.\n",
    "    def feed_forward(self, inputs):\n",
    "        outputs = []\n",
    "        for neuron in self.neurons:\n",
    "            outputs.append(neuron.calculate_output(inputs))\n",
    "        return outputs\n",
    "    \n",
    "    #returns outputs of the layer. \n",
    "    def get_outputs(self):\n",
    "        outputs = []\n",
    "        for neuron in self.neurons:\n",
    "            outputs.append(neuron.output)\n",
    "        return outputs"
   ]
  },
  {
   "cell_type": "markdown",
   "metadata": {},
   "source": [
    "The last class is neural network. The main class is this. It usess layer and neuron classes to generate a network. You can set fixed learning rate in the above parameter. Currently it is set to 0.3, after some trials I found this one as ideal for my network."
   ]
  },
  {
   "cell_type": "code",
   "execution_count": 95,
   "metadata": {},
   "outputs": [],
   "source": [
    "class NeuralNetwork:\n",
    "    LEARNING_RATE = 0.3\n",
    "\n",
    "    def __init__(self, num_inputs, num_hidden, num_outputs):\n",
    "        self.num_inputs = num_inputs\n",
    "\n",
    "        self.hidden_layer = NeuronLayer(num_hidden, isHidden=True)\n",
    "        self.output_layer = NeuronLayer(num_outputs, isHidden=False)\n",
    "\n",
    "        self.init_weights_of_hidden()\n",
    "        self.init_weights_of_output()\n",
    "    #initilizes randomly the weights from input to hidden layer\n",
    "    def init_weights_of_hidden(self):\n",
    "        weight_num = 0\n",
    "        for h in range(len(self.hidden_layer.neurons)):\n",
    "            for i in range(self.num_inputs):\n",
    "                self.hidden_layer.neurons[h].weights.append(random.random())\n",
    "                weight_num += 1\n",
    "    #initilizes randomly the weights from hidden to output layer\n",
    "    def init_weights_of_output(self):\n",
    "        weight_num = 0\n",
    "        for o in range(len(self.output_layer.neurons)):\n",
    "            for h in range(len(self.hidden_layer.neurons)):\n",
    "                self.output_layer.neurons[o].weights.append(random.random())\n",
    "                weight_num += 1\n",
    "\n",
    "    #feed forward of all network.\n",
    "    def feed_forward(self, inputs):\n",
    "        hidden_layer_outputs = self.hidden_layer.feed_forward(inputs)\n",
    "        return self.output_layer.feed_forward(hidden_layer_outputs)\n",
    "\n",
    "    #trains the network, firstly it feeds forward and after that calculates deltas with backpropagtion and updates the weights. \n",
    "    def train(self, training_inputs, training_outputs):\n",
    "        self.feed_forward(training_inputs)\n",
    "        \n",
    "        #partial derivative of errors respect to total net input of output layer\n",
    "        d_errors_total = [0] * len(self.output_layer.neurons)\n",
    "        for o in range(len(self.output_layer.neurons)):\n",
    "            d_errors_total[o] = self.output_layer.neurons[o].d_error_net(training_outputs[o])\n",
    "\n",
    "        #partial derivative of errors respect to total net input of hidden layer\n",
    "        d_errors_total_hidden = [0] * len(self.hidden_layer.neurons)\n",
    "        for h in range(len(self.hidden_layer.neurons)):\n",
    "            d_error_wrt_hidden_neuron_output = 0\n",
    "            for o in range(len(self.output_layer.neurons)):\n",
    "                d_error_wrt_hidden_neuron_output += d_errors_total[o] * self.output_layer.neurons[o].weights[h]\n",
    "            d_errors_total_hidden[h] = d_error_wrt_hidden_neuron_output * self.hidden_layer.neurons[h].d_total_net_input()\n",
    "\n",
    "        for o in range(len(self.output_layer.neurons)):\n",
    "            for w_ho in range(len(self.output_layer.neurons[o].weights)):\n",
    "                #partial derivative of errors respect to output weights\n",
    "                d_error_weight = d_errors_total[o] * self.output_layer.neurons[o].d_total_weight(w_ho)\n",
    "\n",
    "                self.output_layer.neurons[o].weights[w_ho] -= self.LEARNING_RATE * d_error_weight\n",
    "\n",
    "        for h in range(len(self.hidden_layer.neurons)):\n",
    "            for w_ih in range(len(self.hidden_layer.neurons[h].weights)):\n",
    "\n",
    "                d_error_weight = d_errors_total_hidden[h] * self.hidden_layer.neurons[h].d_total_weight(w_ih)\n",
    "\n",
    "                self.hidden_layer.neurons[h].weights[w_ih] -= self.LEARNING_RATE * d_error_weight\n",
    "    # getting the errors and summing them. Returns the total error for given set.\n",
    "    def calculate_total_error(self, training_sets):\n",
    "        total_error = 0\n",
    "        for t in range(len(training_sets)):\n",
    "            training_inputs, training_outputs = training_sets[t]\n",
    "            self.feed_forward(training_inputs)\n",
    "            for o in range(len(training_outputs)):\n",
    "                total_error += self.output_layer.neurons[o].calculate_error(training_outputs[o])\n",
    "        return total_error"
   ]
  },
  {
   "cell_type": "markdown",
   "metadata": {},
   "source": [
    "This part initializes the neural network. Firstly gets the one hot encoding of the classes."
   ]
  },
  {
   "cell_type": "code",
   "execution_count": 96,
   "metadata": {},
   "outputs": [
    {
     "name": "stdout",
     "output_type": "stream",
     "text": [
      "0 147.3999548148957\n",
      "1 144.1348847734715\n",
      "2 142.98907682016974\n",
      "3 140.62998054406958\n",
      "4 139.12108115504432\n",
      "5 137.1519312587287\n",
      "6 135.29124528422102\n",
      "7 132.51631891060612\n",
      "8 130.47595203090793\n",
      "9 130.49088758432677\n",
      "10 128.10027712172015\n",
      "11 125.82534672693014\n",
      "12 125.51433688633999\n",
      "13 124.80537996975997\n",
      "14 126.09672094203476\n",
      "15 126.90118396821674\n",
      "16 125.23978183333405\n",
      "17 124.8239858206304\n",
      "18 122.34032297281591\n",
      "19 122.8492752681638\n",
      "20 120.87198409541077\n",
      "21 118.62158802446847\n",
      "22 116.53315652318898\n",
      "23 116.10346131826147\n",
      "24 115.50218367660496\n",
      "25 114.89893162573729\n",
      "26 113.17023516525435\n",
      "27 112.39656752337959\n",
      "28 111.48863870174763\n",
      "29 111.2542620494305\n",
      "30 111.22524316229479\n",
      "31 112.33653314137159\n",
      "32 109.98842955370401\n",
      "33 109.7543250957863\n",
      "34 108.99074656459385\n",
      "35 109.83727527906112\n",
      "36 108.34993901076069\n",
      "37 107.57155288508541\n",
      "38 108.15381403658293\n",
      "39 107.11471903786146\n",
      "40 107.14611745092724\n",
      "41 103.51292748591085\n",
      "42 103.39569593285593\n",
      "43 103.87906701303616\n",
      "44 102.52231709233541\n",
      "45 103.23606010253827\n",
      "46 102.1730096836318\n",
      "47 102.09396363052905\n",
      "48 102.50185142975235\n",
      "49 102.62466234381478\n",
      "50 101.76707109466868\n",
      "51 101.07150289747307\n",
      "52 101.5459191696448\n",
      "53 101.43482828434202\n",
      "54 100.87269766733756\n",
      "55 101.00409677615099\n",
      "56 100.92650631069823\n",
      "57 100.41275610306083\n",
      "58 100.56474521360106\n",
      "59 100.09077937151443\n",
      "60 101.19630047006932\n",
      "61 100.8214754655268\n",
      "62 99.63518639689188\n",
      "63 99.36266074385988\n",
      "64 99.87754082465192\n",
      "65 99.6708063558191\n",
      "66 99.78003950129411\n",
      "67 99.19098160391465\n",
      "68 99.18855374719307\n",
      "69 99.48682531148518\n",
      "70 99.04551033134294\n",
      "71 98.71140771176985\n",
      "72 98.18494461499553\n",
      "73 98.42836863237342\n",
      "74 98.2752067786206\n",
      "75 98.0179273535401\n",
      "76 98.44314271282116\n",
      "77 98.32394010077628\n",
      "78 98.18715025717825\n",
      "79 98.0686569866951\n",
      "80 98.23863506820743\n",
      "81 99.37627060006228\n",
      "82 98.48914039158728\n",
      "83 98.42906956465019\n",
      "84 97.10110482198617\n",
      "85 97.12327025263579\n",
      "86 96.49662560173756\n",
      "87 96.26422121284719\n",
      "88 96.21721933204485\n",
      "89 96.16156303342416\n",
      "90 95.90484876374236\n",
      "91 96.1236741583132\n",
      "92 96.42674219421177\n",
      "93 95.50979134101253\n",
      "94 96.02906639429771\n",
      "95 96.45948123680148\n",
      "96 96.32699390994124\n",
      "97 96.45918519836458\n",
      "98 96.1678307834922\n",
      "99 96.46206282934908\n",
      "100 96.4309475082851\n",
      "101 96.45583670367715\n",
      "102 95.15433980614934\n",
      "103 94.70976382967349\n",
      "104 94.05116518598733\n",
      "105 94.35427174234452\n",
      "106 94.59438043096874\n",
      "107 94.61137486154553\n",
      "108 94.49066890839548\n",
      "109 94.39544745319206\n",
      "110 94.39686879368404\n",
      "111 94.01171969296622\n",
      "112 94.20456529742025\n",
      "113 94.19687197432606\n",
      "114 93.87270494850364\n",
      "115 93.89716864056645\n",
      "116 93.84394815526647\n",
      "117 93.43966269201759\n",
      "118 93.73032600330814\n",
      "119 93.89321572871954\n",
      "120 93.51853862461539\n",
      "121 93.61760824616555\n",
      "122 93.28125145721083\n",
      "123 93.11207880199237\n",
      "124 92.99290819110063\n",
      "125 93.09725705120177\n",
      "126 93.40210707900651\n",
      "127 93.17047683019695\n",
      "128 93.08944656806152\n",
      "129 97.01524074412606\n"
     ]
    }
   ],
   "source": [
    "def get_one_hot(targets, nb_classes):\n",
    "    res = np.eye(nb_classes)[np.array(targets).reshape(-1)]\n",
    "    return res.reshape(list(targets.shape)+[nb_classes])\n",
    "\n",
    "X = train_data[:,[0,1]]\n",
    "X_test = test_data[:,[0,1]]\n",
    "y_test =[]\n",
    "y = []\n",
    "for e in train_data[:,2]:\n",
    "    if e == 0:\n",
    "        y.append([1,0,0])\n",
    "    elif e ==1:\n",
    "        y.append([0,1,0])\n",
    "    else:\n",
    "        y.append([0,0,1])\n",
    "y = np.array(y)\n",
    "\n",
    "for e in test_data[:,2]:\n",
    "    if e == 0:\n",
    "        y_test.append([1,0,0])\n",
    "    elif e ==1:\n",
    "        y_test.append([0,1,0])\n",
    "    else:\n",
    "        y_test.append([0,0,1])\n",
    "\n",
    "y_test = np.array(y_test)\n",
    "\n",
    "training_sets = list(map(lambda x, t: [[x[0], x[1]],[t[0], t[1], t[2]]]  , X, y))\n",
    "test_sets = list(map(lambda x, t: [[x[0], x[1]],[t[0], t[1], t[2]]]  , X_test, y_test))\n",
    "nn = NeuralNetwork(2, 5, 3)\n",
    "\n",
    "errors = []\n",
    "i = 0\n",
    "while(True):\n",
    "    training_inputs, training_outputs = random.choice(training_sets)\n",
    "    nn.train(training_inputs, training_outputs)\n",
    "    error = nn.calculate_total_error(training_sets)\n",
    "    print(i,error)\n",
    "    errors.append(error)\n",
    "    i+=1\n",
    "    if i<100:\n",
    "        continue\n",
    "    #if training does not improve stop the training\n",
    "    if error > sum(errors[-20:-1])/len(errors[-20:-1]):\n",
    "        break\n",
    "        \n",
    "        \n",
    "total = 0\n",
    "correct_classification = 0\n",
    "last_set = []\n",
    "for test_input, expected_output in test_sets:\n",
    "    out = nn.feed_forward(test_input)\n",
    "    if np.argmax(out) == np.argmax(expected_output):\n",
    "        correct_classification+=1\n",
    "    total+=1\n",
    "    last_set.append(test_input+[np.argmax(out)])"
   ]
  },
  {
   "cell_type": "code",
   "execution_count": 97,
   "metadata": {},
   "outputs": [
    {
     "name": "stdout",
     "output_type": "stream",
     "text": [
      "Accuracy : 0.6833333333333333\n"
     ]
    },
    {
     "data": {
      "text/plain": [
       "[<matplotlib.lines.Line2D at 0x7fd118f38f98>]"
      ]
     },
     "execution_count": 97,
     "metadata": {},
     "output_type": "execute_result"
    },
    {
     "data": {
      "image/png": "[encoded data removed]",
      "text/plain": [
       "<Figure size 432x288 with 1 Axes>"
      ]
     },
     "metadata": {},
     "output_type": "display_data"
    }
   ],
   "source": [
    "print(\"Accuracy :\" , correct_classification/total)\n",
    "plt.title(\"Training  Errrors\")\n",
    "plt.plot(range(len(errors)), errors) "
   ]
  },
  {
   "cell_type": "code",
   "execution_count": 98,
   "metadata": {
    "scrolled": true
   },
   "outputs": [
    {
     "data": {
      "text/plain": [
       "<matplotlib.collections.PathCollection at 0x7fd117fbe7b8>"
      ]
     },
     "execution_count": 98,
     "metadata": {},
     "output_type": "execute_result"
    },
    {
     "data": {
      "image/png": "[encoded data removed]",
      "text/plain": [
       "<Figure size 432x288 with 1 Axes>"
      ]
     },
     "metadata": {},
     "output_type": "display_data"
    }
   ],
   "source": [
    "fig1  = plt.figure()\n",
    "plt.title(\"Test Set After Classification\")\n",
    "last_set = np.array(last_set)\n",
    "plt.scatter(last_set[last_set[:, 2] == 0][:,0], last_set[last_set[:, 2] == 0][:,1], s=10)\n",
    "plt.scatter(last_set[last_set[:, 2] == 1][:,0], last_set[last_set[:, 2] == 1][:,1], s=10)\n",
    "plt.scatter(last_set[last_set[:, 2] == 2][:,0], last_set[last_set[:, 2] == 2][:,1], s=10)\n"
   ]
  },
  {
   "cell_type": "markdown",
   "metadata": {},
   "source": [
    "The statisctics for each class "
   ]
  },
  {
   "cell_type": "code",
   "execution_count": 99,
   "metadata": {},
   "outputs": [
    {
     "name": "stdout",
     "output_type": "stream",
     "text": [
      "green : TPs\n",
      "blue : TNs\n",
      "orange : FPs,\n",
      "red: FNs\n"
     ]
    },
    {
     "data": {
      "image/png": "[encoded data removed]",
      "text/plain": [
       "<Figure size 432x288 with 1 Axes>"
      ]
     },
     "metadata": {},
     "output_type": "display_data"
    },
    {
     "data": {
      "image/png": "[encoded data removed]",
      "text/plain": [
       "<Figure size 432x288 with 1 Axes>"
      ]
     },
     "metadata": {},
     "output_type": "display_data"
    },
    {
     "data": {
      "image/png": "[encoded data removed]",
      "text/plain": [
       "<Figure size 432x288 with 1 Axes>"
      ]
     },
     "metadata": {},
     "output_type": "display_data"
    }
   ],
   "source": [
    "print(\"green : TPs\\nblue : TNs\\norange : FPs,\\nred: FNs\")\n",
    "\n",
    "for i in range(3):\n",
    "    tp0s = []\n",
    "    for x in last_set[last_set[:, 2] == i]:\n",
    "        if x in test_data[test_data[:,2] == i]:\n",
    "            tp0s.append(x)\n",
    "    tp0s=np.array(tp0s)\n",
    "\n",
    "    tn0s = []\n",
    "    for x in last_set[last_set[:, 2] != i]:\n",
    "        if x in test_data[test_data[:,2] != i]:\n",
    "            tn0s.append(x)\n",
    "    tn0s = np.array(tn0s)\n",
    "\n",
    "    fp0s = []\n",
    "    for x in last_set[last_set[:, 2] == i]:\n",
    "        if x in test_data[test_data[:,2] != i]:\n",
    "            fp0s.append(x)\n",
    "    fp0s = np.array(fp0s)\n",
    "\n",
    "    fn0s = []\n",
    "    for x in last_set[last_set[:, 2] != i]:\n",
    "        if x in test_data[test_data[:,2] == i]:\n",
    "            fn0s.append(x)\n",
    "    fn0s = np.array(fn0s)\n",
    "    fig1  = plt.figure()\n",
    "    plt.title(\"TP/TN/FP/FN For Class \" + str(i))\n",
    "    if tp0s.size != 0:\n",
    "        plt.scatter(tp0s[:,0],tp0s[:,1], s=10, c=\"green\")\n",
    "    if tn0s.size != 0:\n",
    "        plt.scatter(tn0s[:,0],tn0s[:,1], s=10, c=\"blue\")\n",
    "    if fp0s.size != 0:\n",
    "        plt.scatter(fp0s[:,0],fp0s[:,1], s=10, c=\"orange\")\n",
    "    if fn0s.size != 0:\n",
    "        plt.scatter(fn0s[:,0],fn0s[:,1], s=10, c=\"red\")\n"
   ]
  }
 ],
 "metadata": {
  "colab": {
   "name": "CMPE 462 HOMEWORK 3.ipynb",
   "provenance": [],
   "version": "0.3.2"
  },
  "kernelspec": {
   "display_name": "Python 3",
   "language": "python",
   "name": "python3"
  },
  "language_info": {
   "codemirror_mode": {
    "name": "ipython",
    "version": 3
   },
   "file_extension": ".py",
   "mimetype": "text/x-python",
   "name": "python",
   "nbconvert_exporter": "python",
   "pygments_lexer": "ipython3",
   "version": "3.6.8"
  }
 },
 "nbformat": 4,
 "nbformat_minor": 1
}
